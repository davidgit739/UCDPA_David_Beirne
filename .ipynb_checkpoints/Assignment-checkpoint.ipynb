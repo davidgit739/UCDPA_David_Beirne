{
 "cells": [
  {
   "cell_type": "code",
   "execution_count": 55,
   "id": "baeba69e",
   "metadata": {},
   "outputs": [],
   "source": [
    "#import required packages \n",
    "import pandas as pd \n",
    "import matplotlib.pyplot as plt \n",
    "\n",
    "\n",
    "rawdata = pd.ExcelFile('C:/Users/David/Desktop/UCD/Assignment/Data/Lookback2_mkt.xlsx') #import data from .xlsx\n",
    "auctions_to = pd.read_excel(rawdata, 'auctions_to')#create a pandas data frame from specific sheet within .xlsx file \n",
    "\n"
   ]
  },
  {
   "cell_type": "code",
   "execution_count": 20,
   "id": "4e0ffd06",
   "metadata": {},
   "outputs": [
    {
     "name": "stdout",
     "output_type": "stream",
     "text": [
      "  auction             timestamp  price_eur  price_gbp  ni_vols  ni_netpos  \\\n",
      "0     DAM  2020-12-31T23:00:00Z      55.09     49.595    739.2     -126.3   \n",
      "1     DAM  2021-01-01T00:00:00Z      54.02     48.632    730.7     -150.2   \n",
      "2     DAM  2021-01-01T01:00:00Z      53.00     47.713    752.6     -180.1   \n",
      "3     DAM  2021-01-01T02:00:00Z      51.24     46.129    704.9     -184.2   \n",
      "4     DAM  2021-01-01T03:00:00Z      48.13     43.329    665.3     -154.6   \n",
      "\n",
      "   roi_vols  roi_netpos DeliveryDate  DeliveryHour  DeliveryInterval  \\\n",
      "0    3727.3       126.3   2021-01-01             1                 1   \n",
      "1    3501.8       150.2   2021-01-01             2                 1   \n",
      "2    3423.8       180.1   2021-01-01             3                 1   \n",
      "3    3189.3       184.2   2021-01-01             4                 1   \n",
      "4    2990.3       154.6   2021-01-01             5                 1   \n",
      "\n",
      "   semo_vols  doy  dow  week  dom      Month  year  \n",
      "0     4466.5    1    5     1    1 2021-01-01  2021  \n",
      "1     4232.5    1    5     1    1 2021-01-01  2021  \n",
      "2     4176.4    1    5     1    1 2021-01-01  2021  \n",
      "3     3894.2    1    5     1    1 2021-01-01  2021  \n",
      "4     3655.6    1    5     1    1 2021-01-01  2021  \n"
     ]
    }
   ],
   "source": [
    "print(auctions_to.head()) #check the data format "
   ]
  },
  {
   "cell_type": "code",
   "execution_count": 37,
   "id": "4d028a0a",
   "metadata": {},
   "outputs": [
    {
     "name": "stdout",
     "output_type": "stream",
     "text": [
      "(52353, 18)\n"
     ]
    }
   ],
   "source": [
    "# Print the shape of auctions_to\n",
    "print(auctions_to.shape)"
   ]
  },
  {
   "cell_type": "code",
   "execution_count": 38,
   "id": "7154d7c3",
   "metadata": {},
   "outputs": [
    {
     "name": "stdout",
     "output_type": "stream",
     "text": [
      "<class 'pandas.core.frame.DataFrame'>\n",
      "RangeIndex: 52353 entries, 0 to 52352\n",
      "Data columns (total 18 columns):\n",
      " #   Column            Non-Null Count  Dtype         \n",
      "---  ------            --------------  -----         \n",
      " 0   auction           52353 non-null  object        \n",
      " 1   timestamp         52353 non-null  object        \n",
      " 2   price_eur         52353 non-null  float64       \n",
      " 3   price_gbp         52353 non-null  float64       \n",
      " 4   ni_vols           52353 non-null  float64       \n",
      " 5   ni_netpos         52353 non-null  float64       \n",
      " 6   roi_vols          52353 non-null  float64       \n",
      " 7   roi_netpos        52353 non-null  float64       \n",
      " 8   DeliveryDate      52353 non-null  datetime64[ns]\n",
      " 9   DeliveryHour      52353 non-null  int64         \n",
      " 10  DeliveryInterval  52353 non-null  int64         \n",
      " 11  semo_vols         52353 non-null  float64       \n",
      " 12  doy               52353 non-null  int64         \n",
      " 13  dow               52353 non-null  int64         \n",
      " 14  week              52353 non-null  int64         \n",
      " 15  dom               52353 non-null  int64         \n",
      " 16  Month             52353 non-null  datetime64[ns]\n",
      " 17  year              52353 non-null  int64         \n",
      "dtypes: datetime64[ns](2), float64(7), int64(7), object(2)\n",
      "memory usage: 7.2+ MB\n",
      "None\n"
     ]
    }
   ],
   "source": [
    "# Print information about auctions_to\n",
    "print(auctions_to.info()) # non-null count demonstrates there are no missing records from the data. "
   ]
  },
  {
   "cell_type": "code",
   "execution_count": 39,
   "id": "552b733d",
   "metadata": {},
   "outputs": [
    {
     "name": "stdout",
     "output_type": "stream",
     "text": [
      "(52353, 18)\n"
     ]
    }
   ],
   "source": [
    "#will replace missing values with zero anyway should updates to the data set ever have missing data. \n",
    "auctions_to.fillna(0)\n",
    "# Print the shape of auctions_to\n",
    "print(auctions_to.shape)\n"
   ]
  },
  {
   "cell_type": "code",
   "execution_count": 40,
   "id": "dc4e93db",
   "metadata": {},
   "outputs": [
    {
     "name": "stdout",
     "output_type": "stream",
     "text": [
      "<class 'pandas.core.frame.DataFrame'>\n",
      "RangeIndex: 52353 entries, 0 to 52352\n",
      "Data columns (total 18 columns):\n",
      " #   Column            Non-Null Count  Dtype         \n",
      "---  ------            --------------  -----         \n",
      " 0   auction           52353 non-null  object        \n",
      " 1   timestamp         52353 non-null  object        \n",
      " 2   price_eur         52353 non-null  float64       \n",
      " 3   price_gbp         52353 non-null  float64       \n",
      " 4   ni_vols           52353 non-null  float64       \n",
      " 5   ni_netpos         52353 non-null  float64       \n",
      " 6   roi_vols          52353 non-null  float64       \n",
      " 7   roi_netpos        52353 non-null  float64       \n",
      " 8   DeliveryDate      52353 non-null  datetime64[ns]\n",
      " 9   DeliveryHour      52353 non-null  int64         \n",
      " 10  DeliveryInterval  52353 non-null  int64         \n",
      " 11  semo_vols         52353 non-null  float64       \n",
      " 12  doy               52353 non-null  int64         \n",
      " 13  dow               52353 non-null  int64         \n",
      " 14  week              52353 non-null  int64         \n",
      " 15  dom               52353 non-null  int64         \n",
      " 16  Month             52353 non-null  datetime64[ns]\n",
      " 17  year              52353 non-null  int64         \n",
      "dtypes: datetime64[ns](2), float64(7), int64(7), object(2)\n",
      "memory usage: 7.2+ MB\n",
      "None\n"
     ]
    }
   ],
   "source": [
    "print(auctions_to.info())"
   ]
  },
  {
   "cell_type": "code",
   "execution_count": 11,
   "id": "fe1d1611",
   "metadata": {},
   "outputs": [
    {
     "name": "stdout",
     "output_type": "stream",
     "text": [
      "          price_eur     price_gbp       ni_vols     ni_netpos      roi_vols  \\\n",
      "count  52353.000000  52353.000000  52353.000000  52353.000000  52353.000000   \n",
      "mean     161.158974    136.889804    282.363679    -20.777915   1125.604544   \n",
      "std       92.747380     77.675571    393.189328    160.895198   1460.579309   \n",
      "min      -48.510000    -40.702000      0.000000   -937.100000      9.100000   \n",
      "25%       85.000000     73.380000     20.500000    -77.400000    175.600000   \n",
      "50%      147.000000    125.353000     98.900000      0.000000    436.100000   \n",
      "75%      219.000000    184.595000    269.800000     37.700000    951.900000   \n",
      "max      757.680000    683.826000   1682.700000    898.100000   5883.400000   \n",
      "\n",
      "         roi_netpos  DeliveryHour  DeliveryInterval     semo_vols  \\\n",
      "count  52353.000000  52353.000000      52353.000000  52353.000000   \n",
      "mean     -14.778129     14.830497          1.388841   1407.968223   \n",
      "std      322.161659      6.817432          0.487492   1843.727350   \n",
      "min    -1007.900000      1.000000          1.000000      9.300000   \n",
      "25%     -153.100000      9.000000          1.000000    212.300000   \n",
      "50%       -2.000000     16.000000          1.000000    553.000000   \n",
      "75%      145.900000     21.000000          2.000000   1120.100000   \n",
      "max     1083.600000     25.000000          2.000000   7442.600000   \n",
      "\n",
      "                doy           dow          week           dom          year  \n",
      "count  52353.000000  52353.000000  52353.000000  52353.000000  52353.000000  \n",
      "mean     152.659867      3.011403     22.235631     15.666036   2021.247493  \n",
      "std      107.051443      2.002492     15.295382      8.770589      0.431560  \n",
      "min        1.000000      0.000000      1.000000      1.000000   2021.000000  \n",
      "25%       61.000000      1.000000      9.000000      8.000000   2021.000000  \n",
      "50%      123.000000      3.000000     18.000000     16.000000   2021.000000  \n",
      "75%      244.000000      5.000000     35.000000     23.000000   2021.000000  \n",
      "max      365.000000      6.000000     53.000000     31.000000   2022.000000  \n"
     ]
    }
   ],
   "source": [
    "# Print a description of auctions_to\n",
    "print(auctions_to.describe())"
   ]
  },
  {
   "cell_type": "code",
   "execution_count": 41,
   "id": "7364cb2f",
   "metadata": {},
   "outputs": [
    {
     "name": "stdout",
     "output_type": "stream",
     "text": [
      "IDA1    1\n",
      "IDA3    1\n",
      "IDA2    1\n",
      "DAM     1\n",
      "Name: auction, dtype: int64\n"
     ]
    }
   ],
   "source": [
    "auction_type = auctions_to.drop_duplicates(subset = \"auction\") #check how many unique auction types there are and count \n",
    "auction_count = auction_type[\"auction\"].value_counts()\n",
    "print(auction_count)"
   ]
  },
  {
   "cell_type": "code",
   "execution_count": 31,
   "id": "b121db0f",
   "metadata": {},
   "outputs": [
    {
     "name": "stdout",
     "output_type": "stream",
     "text": [
      "IDA1    23278\n",
      "DAM     11639\n",
      "IDA2    11616\n",
      "IDA3     5820\n",
      "Name: auction, dtype: int64\n"
     ]
    }
   ],
   "source": [
    "all_auction_count = auctions_to[\"auction\"].value_counts() #check how many times each auction occurs in the data frame \n",
    "print(all_auction_count)"
   ]
  },
  {
   "cell_type": "code",
   "execution_count": 43,
   "id": "156ac9f1",
   "metadata": {},
   "outputs": [
    {
     "name": "stdout",
     "output_type": "stream",
     "text": [
      "1     1\n",
      "14    1\n",
      "24    1\n",
      "23    1\n",
      "22    1\n",
      "21    1\n",
      "20    1\n",
      "19    1\n",
      "18    1\n",
      "17    1\n",
      "16    1\n",
      "15    1\n",
      "13    1\n",
      "2     1\n",
      "12    1\n",
      "11    1\n",
      "10    1\n",
      "9     1\n",
      "8     1\n",
      "7     1\n",
      "6     1\n",
      "5     1\n",
      "4     1\n",
      "3     1\n",
      "25    1\n",
      "Name: DeliveryHour, dtype: int64\n"
     ]
    }
   ],
   "source": [
    "delivery_hour_type = auctions_to.drop_duplicates(subset = \"DeliveryHour\")\n",
    "delivery_hour_count = delivery_hour_type[\"DeliveryHour\"].value_counts()\n",
    "print(delivery_hour_count)"
   ]
  },
  {
   "cell_type": "code",
   "execution_count": 64,
   "id": "6345468e",
   "metadata": {},
   "outputs": [
    {
     "name": "stdout",
     "output_type": "stream",
     "text": [
      "IDA1    50\n",
      "IDA2    28\n",
      "DAM     25\n",
      "IDA3    16\n",
      "Name: auction, dtype: int64\n"
     ]
    }
   ],
   "source": [
    "delivery_hour_type = auctions_to.drop_duplicates(subset = [\"DeliveryHour\" , \"DeliveryInterval\",\"auction\"])\n",
    "delivery_hour_count = delivery_hour_type[ \"auction\"].value_counts()\n",
    "print(delivery_hour_count)"
   ]
  },
  {
   "cell_type": "code",
   "execution_count": null,
   "id": "825721bb",
   "metadata": {},
   "outputs": [],
   "source": []
  }
 ],
 "metadata": {
  "kernelspec": {
   "display_name": "Python 3",
   "language": "python",
   "name": "python3"
  },
  "language_info": {
   "codemirror_mode": {
    "name": "ipython",
    "version": 3
   },
   "file_extension": ".py",
   "mimetype": "text/x-python",
   "name": "python",
   "nbconvert_exporter": "python",
   "pygments_lexer": "ipython3",
   "version": "3.8.8"
  }
 },
 "nbformat": 4,
 "nbformat_minor": 5
}
