{
 "cells": [
  {
   "cell_type": "code",
   "execution_count": 2,
   "id": "baeba69e",
   "metadata": {},
   "outputs": [],
   "source": [
    "#import required packages \n",
    "import pandas as pd \n",
    "import matplotlib.pyplot as plt \n",
    "import numpy as np\n",
    "\n",
    "rawdata = pd.ExcelFile('C:/Users/David/Desktop/UCD/Assignment/Data/Lookback2_mkt.xlsx') #import data from .xlsx\n",
    "auctions_to = pd.read_excel(rawdata, 'auctions_to')#create a pandas data frame from specific sheet within .xlsx file \n",
    "\n"
   ]
  },
  {
   "cell_type": "code",
   "execution_count": 3,
   "id": "4e0ffd06",
   "metadata": {},
   "outputs": [
    {
     "name": "stdout",
     "output_type": "stream",
     "text": [
      "  auction             timestamp  price_eur  price_gbp  ni_vols  ni_netpos  \\\n",
      "0     DAM  2020-12-31T23:00:00Z      55.09     49.595    739.2     -126.3   \n",
      "1     DAM  2021-01-01T00:00:00Z      54.02     48.632    730.7     -150.2   \n",
      "2     DAM  2021-01-01T01:00:00Z      53.00     47.713    752.6     -180.1   \n",
      "3     DAM  2021-01-01T02:00:00Z      51.24     46.129    704.9     -184.2   \n",
      "4     DAM  2021-01-01T03:00:00Z      48.13     43.329    665.3     -154.6   \n",
      "\n",
      "   roi_vols  roi_netpos DeliveryDate  DeliveryHour  DeliveryInterval  \\\n",
      "0    3727.3       126.3   2021-01-01             1                 1   \n",
      "1    3501.8       150.2   2021-01-01             2                 1   \n",
      "2    3423.8       180.1   2021-01-01             3                 1   \n",
      "3    3189.3       184.2   2021-01-01             4                 1   \n",
      "4    2990.3       154.6   2021-01-01             5                 1   \n",
      "\n",
      "   semo_vols  doy  dow  week  dom      Month  year  \n",
      "0     4466.5    1    5     1    1 2021-01-01  2021  \n",
      "1     4232.5    1    5     1    1 2021-01-01  2021  \n",
      "2     4176.4    1    5     1    1 2021-01-01  2021  \n",
      "3     3894.2    1    5     1    1 2021-01-01  2021  \n",
      "4     3655.6    1    5     1    1 2021-01-01  2021  \n"
     ]
    }
   ],
   "source": [
    "print(auctions_to.head()) #check the data format "
   ]
  },
  {
   "cell_type": "code",
   "execution_count": 4,
   "id": "4d028a0a",
   "metadata": {},
   "outputs": [
    {
     "name": "stdout",
     "output_type": "stream",
     "text": [
      "(52353, 18)\n"
     ]
    }
   ],
   "source": [
    "# Print the shape of auctions_to\n",
    "print(auctions_to.shape)"
   ]
  },
  {
   "cell_type": "code",
   "execution_count": 5,
   "id": "7154d7c3",
   "metadata": {},
   "outputs": [
    {
     "name": "stdout",
     "output_type": "stream",
     "text": [
      "<class 'pandas.core.frame.DataFrame'>\n",
      "RangeIndex: 52353 entries, 0 to 52352\n",
      "Data columns (total 18 columns):\n",
      " #   Column            Non-Null Count  Dtype         \n",
      "---  ------            --------------  -----         \n",
      " 0   auction           52353 non-null  object        \n",
      " 1   timestamp         52353 non-null  object        \n",
      " 2   price_eur         52353 non-null  float64       \n",
      " 3   price_gbp         52353 non-null  float64       \n",
      " 4   ni_vols           52353 non-null  float64       \n",
      " 5   ni_netpos         52353 non-null  float64       \n",
      " 6   roi_vols          52353 non-null  float64       \n",
      " 7   roi_netpos        52353 non-null  float64       \n",
      " 8   DeliveryDate      52353 non-null  datetime64[ns]\n",
      " 9   DeliveryHour      52353 non-null  int64         \n",
      " 10  DeliveryInterval  52353 non-null  int64         \n",
      " 11  semo_vols         52353 non-null  float64       \n",
      " 12  doy               52353 non-null  int64         \n",
      " 13  dow               52353 non-null  int64         \n",
      " 14  week              52353 non-null  int64         \n",
      " 15  dom               52353 non-null  int64         \n",
      " 16  Month             52353 non-null  datetime64[ns]\n",
      " 17  year              52353 non-null  int64         \n",
      "dtypes: datetime64[ns](2), float64(7), int64(7), object(2)\n",
      "memory usage: 7.2+ MB\n",
      "None\n"
     ]
    }
   ],
   "source": [
    "# Print information about auctions_to\n",
    "print(auctions_to.info()) # non-null count demonstrates there are no missing records from the data. "
   ]
  },
  {
   "cell_type": "code",
   "execution_count": 6,
   "id": "552b733d",
   "metadata": {},
   "outputs": [
    {
     "name": "stdout",
     "output_type": "stream",
     "text": [
      "(52353, 18)\n"
     ]
    }
   ],
   "source": [
    "#will replace missing values with zero anyway should updates to the data set ever have missing data. \n",
    "auctions_to.fillna(0)\n",
    "# Print the shape of auctions_to\n",
    "print(auctions_to.shape)\n"
   ]
  },
  {
   "cell_type": "code",
   "execution_count": 7,
   "id": "dc4e93db",
   "metadata": {},
   "outputs": [
    {
     "name": "stdout",
     "output_type": "stream",
     "text": [
      "<class 'pandas.core.frame.DataFrame'>\n",
      "RangeIndex: 52353 entries, 0 to 52352\n",
      "Data columns (total 18 columns):\n",
      " #   Column            Non-Null Count  Dtype         \n",
      "---  ------            --------------  -----         \n",
      " 0   auction           52353 non-null  object        \n",
      " 1   timestamp         52353 non-null  object        \n",
      " 2   price_eur         52353 non-null  float64       \n",
      " 3   price_gbp         52353 non-null  float64       \n",
      " 4   ni_vols           52353 non-null  float64       \n",
      " 5   ni_netpos         52353 non-null  float64       \n",
      " 6   roi_vols          52353 non-null  float64       \n",
      " 7   roi_netpos        52353 non-null  float64       \n",
      " 8   DeliveryDate      52353 non-null  datetime64[ns]\n",
      " 9   DeliveryHour      52353 non-null  int64         \n",
      " 10  DeliveryInterval  52353 non-null  int64         \n",
      " 11  semo_vols         52353 non-null  float64       \n",
      " 12  doy               52353 non-null  int64         \n",
      " 13  dow               52353 non-null  int64         \n",
      " 14  week              52353 non-null  int64         \n",
      " 15  dom               52353 non-null  int64         \n",
      " 16  Month             52353 non-null  datetime64[ns]\n",
      " 17  year              52353 non-null  int64         \n",
      "dtypes: datetime64[ns](2), float64(7), int64(7), object(2)\n",
      "memory usage: 7.2+ MB\n",
      "None\n"
     ]
    }
   ],
   "source": [
    "print(auctions_to.info())"
   ]
  },
  {
   "cell_type": "code",
   "execution_count": 8,
   "id": "fe1d1611",
   "metadata": {},
   "outputs": [
    {
     "name": "stdout",
     "output_type": "stream",
     "text": [
      "          price_eur     price_gbp       ni_vols     ni_netpos      roi_vols  \\\n",
      "count  52353.000000  52353.000000  52353.000000  52353.000000  52353.000000   \n",
      "mean     161.158974    136.889804    282.363679    -20.777915   1125.604544   \n",
      "std       92.747380     77.675571    393.189328    160.895198   1460.579309   \n",
      "min      -48.510000    -40.702000      0.000000   -937.100000      9.100000   \n",
      "25%       85.000000     73.380000     20.500000    -77.400000    175.600000   \n",
      "50%      147.000000    125.353000     98.900000      0.000000    436.100000   \n",
      "75%      219.000000    184.595000    269.800000     37.700000    951.900000   \n",
      "max      757.680000    683.826000   1682.700000    898.100000   5883.400000   \n",
      "\n",
      "         roi_netpos  DeliveryHour  DeliveryInterval     semo_vols  \\\n",
      "count  52353.000000  52353.000000      52353.000000  52353.000000   \n",
      "mean     -14.778129     14.830497          1.388841   1407.968223   \n",
      "std      322.161659      6.817432          0.487492   1843.727350   \n",
      "min    -1007.900000      1.000000          1.000000      9.300000   \n",
      "25%     -153.100000      9.000000          1.000000    212.300000   \n",
      "50%       -2.000000     16.000000          1.000000    553.000000   \n",
      "75%      145.900000     21.000000          2.000000   1120.100000   \n",
      "max     1083.600000     25.000000          2.000000   7442.600000   \n",
      "\n",
      "                doy           dow          week           dom          year  \n",
      "count  52353.000000  52353.000000  52353.000000  52353.000000  52353.000000  \n",
      "mean     152.659867      3.011403     22.235631     15.666036   2021.247493  \n",
      "std      107.051443      2.002492     15.295382      8.770589      0.431560  \n",
      "min        1.000000      0.000000      1.000000      1.000000   2021.000000  \n",
      "25%       61.000000      1.000000      9.000000      8.000000   2021.000000  \n",
      "50%      123.000000      3.000000     18.000000     16.000000   2021.000000  \n",
      "75%      244.000000      5.000000     35.000000     23.000000   2021.000000  \n",
      "max      365.000000      6.000000     53.000000     31.000000   2022.000000  \n"
     ]
    }
   ],
   "source": [
    "# Print a description of auctions_to\n",
    "print(auctions_to.describe())"
   ]
  },
  {
   "cell_type": "code",
   "execution_count": 9,
   "id": "7364cb2f",
   "metadata": {},
   "outputs": [
    {
     "name": "stdout",
     "output_type": "stream",
     "text": [
      "DAM     1\n",
      "IDA3    1\n",
      "IDA2    1\n",
      "IDA1    1\n",
      "Name: auction, dtype: int64\n"
     ]
    }
   ],
   "source": [
    "auction_type = auctions_to.drop_duplicates(subset = \"auction\") #check how many unique auction types there are and count \n",
    "auction_count = auction_type[\"auction\"].value_counts(sort = True)\n",
    "print(auction_count)"
   ]
  },
  {
   "cell_type": "code",
   "execution_count": 85,
   "id": "3b5865b5",
   "metadata": {},
   "outputs": [
    {
     "name": "stdout",
     "output_type": "stream",
     "text": [
      "161.16\n",
      "157.62\n",
      "155.25\n",
      "169.97\n",
      "174.28\n"
     ]
    }
   ],
   "source": [
    "#calculate average price of energy in all auctions \n",
    "price_auctions_all = round(auctions_to[\"price_eur\"].mean(),2)\n",
    "print(price_auctions_all)\n",
    "\n",
    "#calculate average price of energy in the DAM auction\n",
    "price_auction_DAM = round(auctions_to[auctions_to[\"auction\"] == \"DAM\"][\"price_eur\"].mean(),2)\n",
    "print(price_auction_DAM)\n",
    "\n",
    "#calculate average price of energy in the DAM auction\n",
    "price_auction_IDA1 = round(auctions_to[auctions_to[\"auction\"] == \"IDA1\"][\"price_eur\"].mean(),2)\n",
    "print(price_auction_IDA1)\n",
    "\n",
    "#calculate average price of energy in the DAM auction\n",
    "price_auction_IDA2 = round(auctions_to[auctions_to[\"auction\"] == \"IDA2\"][\"price_eur\"].mean(),2)\n",
    "print(price_auction_IDA2)\n",
    "\n",
    "#calculate average price of energy in the DAM auction\n",
    "price_auction_IDA3 = round(auctions_to[auctions_to[\"auction\"] == \"IDA3\"][\"price_eur\"].mean(),2)\n",
    "print(price_auction_IDA3)\n",
    "\n"
   ]
  },
  {
   "cell_type": "code",
   "execution_count": 98,
   "id": "825721bb",
   "metadata": {},
   "outputs": [
    {
     "name": "stdout",
     "output_type": "stream",
     "text": [
      "73711360.4\n",
      "55085899.6\n",
      "15602986.0\n",
      "2281826.9\n",
      "740647.9\n"
     ]
    }
   ],
   "source": [
    "#calculate total volume of energy in all auctions \n",
    "volume_auctions_all = auctions_to[\"semo_vols\"].sum()\n",
    "print(round(volume_auctions_all, 2))\n",
    "\n",
    "#calculate total volume of energy in the DAM auction\n",
    "volume_auction_DAM = round(auctions_to[auctions_to[\"auction\"] == \"DAM\"][\"semo_vols\"].sum(),2)\n",
    "print(volume_auction_DAM)\n",
    "\n",
    "#calculate total volume of energy in the DAM auction\n",
    "volume_auction_IDA1 = round(auctions_to[auctions_to[\"auction\"] == \"IDA1\"][\"semo_vols\"].sum(),2)\n",
    "print(volume_auction_IDA1)\n",
    "\n",
    "#calculate total volume of energy in the DAM auction\n",
    "volume_auction_IDA2 = round(auctions_to[auctions_to[\"auction\"] == \"IDA2\"][\"semo_vols\"].sum(),2)\n",
    "print(volume_auction_IDA2)\n",
    "\n",
    "#calculate total volume of energy in the DAM auction\n",
    "volume_auction_IDA3 = round(auctions_to[auctions_to[\"auction\"] == \"IDA3\"][\"semo_vols\"].sum(),2)\n",
    "print(volume_auction_IDA3)"
   ]
  },
  {
   "cell_type": "code",
   "execution_count": 99,
   "id": "6225d82a",
   "metadata": {},
   "outputs": [
    {
     "name": "stdout",
     "output_type": "stream",
     "text": [
      "[0.75 0.21 0.03 0.01]\n"
     ]
    }
   ],
   "source": [
    "total_volume_by_auction = [volume_auction_DAM, volume_auction_IDA1, volume_auction_IDA2, volume_auction_IDA3] / volume_auctions_all\n",
    "print(np.around(total_volume_by_auction, 2))"
   ]
  },
  {
   "cell_type": "code",
   "execution_count": 100,
   "id": "364f9d51",
   "metadata": {},
   "outputs": [],
   "source": [
    "auction_proportions = pd.DataFrame(np.around(total_volume_by_auction, 2))"
   ]
  },
  {
   "cell_type": "code",
   "execution_count": 101,
   "id": "d594c236",
   "metadata": {},
   "outputs": [],
   "source": [
    "dict = {\n",
    "    \"Average Price\":[price_auction_DAM, price_auction_IDA1, price_auction_IDA2, price_auction_IDA3],\n",
    "    \"Volume Traded\":[volume_auction_DAM, volume_auction_IDA1, volume_auction_IDA2, volume_auction_IDA3]\n",
    "}\n",
    "\n"
   ]
  },
  {
   "cell_type": "code",
   "execution_count": 102,
   "id": "46a418d7",
   "metadata": {},
   "outputs": [
    {
     "data": {
      "text/html": [
       "<div>\n",
       "<style scoped>\n",
       "    .dataframe tbody tr th:only-of-type {\n",
       "        vertical-align: middle;\n",
       "    }\n",
       "\n",
       "    .dataframe tbody tr th {\n",
       "        vertical-align: top;\n",
       "    }\n",
       "\n",
       "    .dataframe thead th {\n",
       "        text-align: right;\n",
       "    }\n",
       "</style>\n",
       "<table border=\"1\" class=\"dataframe\">\n",
       "  <thead>\n",
       "    <tr style=\"text-align: right;\">\n",
       "      <th></th>\n",
       "      <th>Average Price</th>\n",
       "      <th>Volume Traded</th>\n",
       "    </tr>\n",
       "  </thead>\n",
       "  <tbody>\n",
       "    <tr>\n",
       "      <th>DAM</th>\n",
       "      <td>157.62</td>\n",
       "      <td>55085899.6</td>\n",
       "    </tr>\n",
       "    <tr>\n",
       "      <th>IDA1</th>\n",
       "      <td>155.25</td>\n",
       "      <td>15602986.0</td>\n",
       "    </tr>\n",
       "    <tr>\n",
       "      <th>IDA2</th>\n",
       "      <td>169.97</td>\n",
       "      <td>2281826.9</td>\n",
       "    </tr>\n",
       "    <tr>\n",
       "      <th>IDA3</th>\n",
       "      <td>174.28</td>\n",
       "      <td>740647.9</td>\n",
       "    </tr>\n",
       "  </tbody>\n",
       "</table>\n",
       "</div>"
      ],
      "text/plain": [
       "      Average Price  Volume Traded\n",
       "DAM          157.62     55085899.6\n",
       "IDA1         155.25     15602986.0\n",
       "IDA2         169.97      2281826.9\n",
       "IDA3         174.28       740647.9"
      ]
     },
     "execution_count": 102,
     "metadata": {},
     "output_type": "execute_result"
    }
   ],
   "source": [
    "auction_compare = pd.DataFrame(dict)\n",
    "auction_compare.index = [\"DAM\", \"IDA1\", \"IDA2\", \"IDA3\"]\n",
    "auction_compare"
   ]
  },
  {
   "cell_type": "code",
   "execution_count": 103,
   "id": "d294409a",
   "metadata": {},
   "outputs": [
    {
     "name": "stdout",
     "output_type": "stream",
     "text": [
      "The DAM Average Price is €157.62 and the total traded volume is 55085899.6MWh\n",
      "The IDA1 Average Price is €155.25 and the total traded volume is 15602986.0MWh\n",
      "The IDA2 Average Price is €169.97 and the total traded volume is 2281826.9MWh\n",
      "The IDA3 Average Price is €174.28 and the total traded volume is 740647.9MWh\n"
     ]
    }
   ],
   "source": [
    "#print label and capital only together \n",
    "\n",
    "for lab,row in auction_compare.iterrows() : \n",
    "    print(\"The \" + lab + \" Average Price is €\" + str(row[\"Average Price\"]) + \" and the total traded volume is \" + str(row[\"Volume Traded\"]) + \"MWh\")\n",
    "    "
   ]
  },
  {
   "cell_type": "code",
   "execution_count": null,
   "id": "d53ef6de",
   "metadata": {},
   "outputs": [],
   "source": []
  },
  {
   "cell_type": "code",
   "execution_count": 104,
   "id": "e41e0346",
   "metadata": {},
   "outputs": [
    {
     "name": "stdout",
     "output_type": "stream",
     "text": [
      "         0\n",
      "DAM   0.75\n",
      "IDA1  0.21\n",
      "IDA2  0.03\n",
      "IDA3  0.01\n"
     ]
    }
   ],
   "source": [
    "auction_proportions = pd.DataFrame(np.around(total_volume_by_auction, 2))\n",
    "auction_proportions.index = [\"DAM\", \"IDA1\", \"IDA2\", \"IDA3\"]\n",
    "print(auction_proportions)"
   ]
  },
  {
   "cell_type": "code",
   "execution_count": 69,
   "id": "98c8d6b3",
   "metadata": {},
   "outputs": [
    {
     "name": "stdout",
     "output_type": "stream",
     "text": [
      "['DAM' 'IDA1' 'IDA2' 'IDA3']\n",
      "['0.75' '0.21' '0.03' '0.01']\n"
     ]
    }
   ],
   "source": [
    "auction_type = np.array([\"DAM\", \"IDA1\", \"IDA2\", \"IDA3\"])\n",
    "compare_proportion = np.array([auction_type, np.around(total_volume_by_auction, 2)])\n",
    "\n",
    "\n",
    "for val in compare_proportion : \n",
    "    print(val) "
   ]
  },
  {
   "cell_type": "code",
   "execution_count": null,
   "id": "92418f1b",
   "metadata": {},
   "outputs": [],
   "source": []
  },
  {
   "cell_type": "code",
   "execution_count": null,
   "id": "cf8357ea",
   "metadata": {},
   "outputs": [],
   "source": []
  }
 ],
 "metadata": {
  "kernelspec": {
   "display_name": "Python 3",
   "language": "python",
   "name": "python3"
  },
  "language_info": {
   "codemirror_mode": {
    "name": "ipython",
    "version": 3
   },
   "file_extension": ".py",
   "mimetype": "text/x-python",
   "name": "python",
   "nbconvert_exporter": "python",
   "pygments_lexer": "ipython3",
   "version": "3.8.8"
  }
 },
 "nbformat": 4,
 "nbformat_minor": 5
}
